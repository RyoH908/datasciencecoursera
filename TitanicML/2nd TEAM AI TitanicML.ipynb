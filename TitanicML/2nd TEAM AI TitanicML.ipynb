{
 "cells": [
  {
   "cell_type": "markdown",
   "metadata": {},
   "source": [
    "Challenge for TitanicML at 16th July."
   ]
  },
  {
   "cell_type": "code",
   "execution_count": 52,
   "metadata": {
    "collapsed": false
   },
   "outputs": [],
   "source": [
    "from keras.models import Sequential\n",
    "from keras.layers import Dense, Activation\n",
    "from keras.callbacks import ModelCheckpoint\n",
    "\n",
    "import pandas as pd\n",
    "import numpy as np \n",
    "from sklearn import preprocessing\n",
    "\n",
    "import matplotlib.pyplot as plt"
   ]
  },
  {
   "cell_type": "code",
   "execution_count": 68,
   "metadata": {
    "collapsed": true
   },
   "outputs": [],
   "source": [
    "np.random.seed(1919)\n",
    "### Constants ###\n",
    "data_folder = \"/user/rh186032/datasciencecoursera/TitanicML/input/\"\n",
    "#out_folder = \"/user/rh186032/datasciencecoursera/TitanicML/output/\"\n",
    "#batch_size = 4\n",
    "#nb_epoch = 10"
   ]
  },
  {
   "cell_type": "code",
   "execution_count": 69,
   "metadata": {
    "collapsed": false
   },
   "outputs": [
    {
     "name": "stdout",
     "output_type": "stream",
     "text": [
      "Data Read complete\n"
     ]
    }
   ],
   "source": [
    "### load train and test ###\n",
    "ds  = pd.read_csv(data_folder+'train.csv', index_col=0)\n",
    "ds['Sex'].replace('female', 1, inplace=True)\n",
    "ds['Sex'].replace('male', 2, inplace=True)\n",
    "\n",
    "ds['Age'].fillna(ds['Age'].mean(), inplace=True)\n",
    "\n",
    "ds.dropna(subset=['Fare', 'Embarked'], inplace=True, how='any')\n",
    "\n",
    "ds['Embarked'].replace('S', 1, inplace=True)\n",
    "ds['Embarked'].replace('C', 2, inplace=True)\n",
    "ds['Embarked'].replace('Q', 3, inplace=True)\n",
    "\n",
    "def normalize(column):\n",
    "    return (column - column.mean()) / (column.max() - column.min())\n",
    "\n",
    "age_norm = normalize(ds['Age'])\n",
    "pclass_norm = normalize(ds['Pclass'])\n",
    "sex_norm = normalize(ds['Sex'])\n",
    "sibsp_norm = normalize(ds['SibSp'])\n",
    "parch_norm = normalize(ds['Parch'])\n",
    "embarked_norm = normalize(ds['Embarked'])\n",
    "fare_norm = normalize(ds['Fare'])\n",
    "\n",
    "print(\"Data Read complete\")"
   ]
  },
  {
   "cell_type": "code",
   "execution_count": 70,
   "metadata": {
    "collapsed": false
   },
   "outputs": [],
   "source": [
    "X_train = np.asarray(pd.concat([age_norm, pclass_norm, sex_norm, sibsp_norm, parch_norm, embarked_norm, fare_norm], axis=1, join='inner'))\n",
    "Y_train = np.asarray(ds['Survived'])"
   ]
  },
  {
   "cell_type": "code",
   "execution_count": 71,
   "metadata": {
    "collapsed": false
   },
   "outputs": [
    {
     "name": "stderr",
     "output_type": "stream",
     "text": [
      "/usr/lib/python3.4/site-packages/ipykernel/__main__.py:3: UserWarning: Update your `Dense` call to the Keras 2 API: `Dense(units=10, input_dim=7)`\n",
      "  app.launch_new_instance()\n",
      "/usr/lib/python3.4/site-packages/ipykernel/__main__.py:5: UserWarning: Update your `Dense` call to the Keras 2 API: `Dense(units=1)`\n"
     ]
    }
   ],
   "source": [
    "model = Sequential()\n",
    "\n",
    "model.add(Dense(output_dim=10, input_dim=7))\n",
    "model.add(Activation(\"relu\"))\n",
    "model.add(Dense(output_dim=1))\n",
    "model.add(Activation(\"linear\"))\n",
    "model.compile(loss='binary_crossentropy', optimizer='sgd', metrics=['accuracy'])"
   ]
  },
  {
   "cell_type": "code",
   "execution_count": 87,
   "metadata": {
    "collapsed": false
   },
   "outputs": [],
   "source": [
    "filepath = data_folder+'checkpoints/weights.best.hdf5'"
   ]
  },
  {
   "cell_type": "code",
   "execution_count": 88,
   "metadata": {
    "collapsed": false,
    "scrolled": true
   },
   "outputs": [],
   "source": [
    "checkpoint = ModelCheckpoint(filepath, monitor='acc', verbose=1, save_best_only=True, mode='max')\n",
    "callbacks_list = [checkpoint]"
   ]
  },
  {
   "cell_type": "code",
   "execution_count": 89,
   "metadata": {
    "collapsed": false
   },
   "outputs": [
    {
     "name": "stdout",
     "output_type": "stream",
     "text": [
      "Epoch 1/40\n",
      " 32/600 [>.............................] - ETA: 0s - loss: 0.5402 - acc: 0.7500Epoch 00000: acc improved from -inf to 0.78667, saving model to /user/rh186032/datasciencecoursera/TitanicML/input/checkpoints/weights.best.hdf5\n",
      "600/600 [==============================] - 0s - loss: 0.5072 - acc: 0.7867     \n",
      "Epoch 2/40\n",
      " 32/600 [>.............................] - ETA: 0s - loss: 0.6228 - acc: 0.7500Epoch 00001: acc did not improve\n",
      "600/600 [==============================] - 0s - loss: 0.4981 - acc: 0.7867     \n",
      "Epoch 3/40\n",
      " 32/600 [>.............................] - ETA: 0s - loss: 0.5022 - acc: 0.7188Epoch 00002: acc did not improve\n",
      "600/600 [==============================] - 0s - loss: 0.4928 - acc: 0.7833     \n",
      "Epoch 4/40\n",
      " 32/600 [>.............................] - ETA: 0s - loss: 0.3916 - acc: 0.8750Epoch 00003: acc did not improve\n",
      "600/600 [==============================] - 0s - loss: 0.4873 - acc: 0.7850     \n",
      "Epoch 5/40\n",
      " 32/600 [>.............................] - ETA: 0s - loss: 0.4417 - acc: 0.9062Epoch 00004: acc did not improve\n",
      "600/600 [==============================] - 0s - loss: 0.4830 - acc: 0.7850     \n",
      "Epoch 6/40\n",
      " 32/600 [>.............................] - ETA: 0s - loss: 0.4871 - acc: 0.7500Epoch 00005: acc did not improve\n",
      "600/600 [==============================] - 0s - loss: 0.4795 - acc: 0.7850     \n",
      "Epoch 7/40\n",
      " 32/600 [>.............................] - ETA: 0s - loss: 0.5164 - acc: 0.7500Epoch 00006: acc did not improve\n",
      "600/600 [==============================] - 0s - loss: 0.4768 - acc: 0.7850     \n",
      "Epoch 8/40\n",
      " 32/600 [>.............................] - ETA: 0s - loss: 0.3418 - acc: 0.9062Epoch 00007: acc did not improve\n",
      "600/600 [==============================] - 0s - loss: 0.4755 - acc: 0.7850     \n",
      "Epoch 9/40\n",
      " 32/600 [>.............................] - ETA: 0s - loss: 0.4538 - acc: 0.8125Epoch 00008: acc did not improve\n",
      "600/600 [==============================] - 0s - loss: 0.4720 - acc: 0.7850     \n",
      "Epoch 10/40\n",
      " 32/600 [>.............................] - ETA: 0s - loss: 0.5088 - acc: 0.7812Epoch 00009: acc improved from 0.78667 to 0.78833, saving model to /user/rh186032/datasciencecoursera/TitanicML/input/checkpoints/weights.best.hdf5\n",
      "600/600 [==============================] - 0s - loss: 0.4706 - acc: 0.7883     \n",
      "Epoch 11/40\n",
      " 32/600 [>.............................] - ETA: 0s - loss: 0.7357 - acc: 0.5938Epoch 00010: acc did not improve\n",
      "600/600 [==============================] - 0s - loss: 0.4700 - acc: 0.7850     \n",
      "Epoch 12/40\n",
      " 32/600 [>.............................] - ETA: 0s - loss: 0.4001 - acc: 0.8438Epoch 00011: acc improved from 0.78833 to 0.79000, saving model to /user/rh186032/datasciencecoursera/TitanicML/input/checkpoints/weights.best.hdf5\n",
      "600/600 [==============================] - 0s - loss: 0.4677 - acc: 0.7900     \n",
      "Epoch 13/40\n",
      " 32/600 [>.............................] - ETA: 0s - loss: 0.3985 - acc: 0.8125Epoch 00012: acc did not improve\n",
      "600/600 [==============================] - 0s - loss: 0.4662 - acc: 0.7883     \n",
      "Epoch 14/40\n",
      " 32/600 [>.............................] - ETA: 0s - loss: 0.4400 - acc: 0.8125Epoch 00013: acc did not improve\n",
      "600/600 [==============================] - 0s - loss: 0.4637 - acc: 0.7900     \n",
      "Epoch 15/40\n",
      " 32/600 [>.............................] - ETA: 0s - loss: 0.4848 - acc: 0.7188Epoch 00014: acc improved from 0.79000 to 0.79167, saving model to /user/rh186032/datasciencecoursera/TitanicML/input/checkpoints/weights.best.hdf5\n",
      "600/600 [==============================] - 0s - loss: 0.4615 - acc: 0.7917     \n",
      "Epoch 16/40\n",
      " 32/600 [>.............................] - ETA: 0s - loss: 0.4192 - acc: 0.7812Epoch 00015: acc did not improve\n",
      "600/600 [==============================] - 0s - loss: 0.4662 - acc: 0.7917     \n",
      "Epoch 17/40\n",
      " 32/600 [>.............................] - ETA: 0s - loss: 0.2710 - acc: 0.9375Epoch 00016: acc did not improve\n",
      "600/600 [==============================] - 0s - loss: 0.4618 - acc: 0.7917     \n",
      "Epoch 18/40\n",
      " 32/600 [>.............................] - ETA: 0s - loss: 0.4230 - acc: 0.8125Epoch 00017: acc did not improve\n",
      "600/600 [==============================] - 0s - loss: 0.4593 - acc: 0.7917     \n",
      "Epoch 19/40\n",
      " 32/600 [>.............................] - ETA: 0s - loss: 0.4464 - acc: 0.8125Epoch 00018: acc did not improve\n",
      "600/600 [==============================] - 0s - loss: 0.4587 - acc: 0.7900     \n",
      "Epoch 20/40\n",
      " 32/600 [>.............................] - ETA: 0s - loss: 0.5752 - acc: 0.6250Epoch 00019: acc did not improve\n",
      "600/600 [==============================] - 0s - loss: 0.4596 - acc: 0.7900     \n",
      "Epoch 21/40\n",
      " 32/600 [>.............................] - ETA: 0s - loss: 0.4257 - acc: 0.8125Epoch 00020: acc did not improve\n",
      "600/600 [==============================] - 0s - loss: 0.4574 - acc: 0.7917     \n",
      "Epoch 22/40\n",
      " 32/600 [>.............................] - ETA: 0s - loss: 0.4177 - acc: 0.7812Epoch 00021: acc did not improve\n",
      "600/600 [==============================] - 0s - loss: 0.4570 - acc: 0.7917     \n",
      "Epoch 23/40\n",
      " 32/600 [>.............................] - ETA: 0s - loss: 0.4627 - acc: 0.8438Epoch 00022: acc did not improve\n",
      "600/600 [==============================] - 0s - loss: 0.4560 - acc: 0.7900     \n",
      "Epoch 24/40\n",
      " 32/600 [>.............................] - ETA: 0s - loss: 0.4420 - acc: 0.7812Epoch 00023: acc did not improve\n",
      "600/600 [==============================] - 0s - loss: 0.4554 - acc: 0.7900     \n",
      "Epoch 25/40\n",
      " 32/600 [>.............................] - ETA: 0s - loss: 0.4532 - acc: 0.7500Epoch 00024: acc did not improve\n",
      "600/600 [==============================] - 0s - loss: 0.4547 - acc: 0.7900     \n",
      "Epoch 26/40\n",
      " 32/600 [>.............................] - ETA: 0s - loss: 0.3850 - acc: 0.8125Epoch 00025: acc did not improve\n",
      "600/600 [==============================] - 0s - loss: 0.4573 - acc: 0.7900     \n",
      "Epoch 27/40\n",
      " 32/600 [>.............................] - ETA: 0s - loss: 0.5707 - acc: 0.7188Epoch 00026: acc improved from 0.79167 to 0.79333, saving model to /user/rh186032/datasciencecoursera/TitanicML/input/checkpoints/weights.best.hdf5\n",
      "600/600 [==============================] - 0s - loss: 0.4539 - acc: 0.7933     \n",
      "Epoch 28/40\n",
      " 32/600 [>.............................] - ETA: 0s - loss: 0.2604 - acc: 0.9688Epoch 00027: acc did not improve\n",
      "600/600 [==============================] - 0s - loss: 0.4559 - acc: 0.7900     \n",
      "Epoch 29/40\n",
      " 32/600 [>.............................] - ETA: 0s - loss: 0.4063 - acc: 0.8750Epoch 00028: acc did not improve\n",
      "600/600 [==============================] - 0s - loss: 0.4534 - acc: 0.7917     \n",
      "Epoch 30/40\n",
      " 32/600 [>.............................] - ETA: 0s - loss: 0.4384 - acc: 0.7500Epoch 00029: acc did not improve\n",
      "600/600 [==============================] - 0s - loss: 0.4544 - acc: 0.7900     \n",
      "Epoch 31/40\n",
      " 32/600 [>.............................] - ETA: 0s - loss: 0.5817 - acc: 0.6562Epoch 00030: acc did not improve\n",
      "600/600 [==============================] - 0s - loss: 0.4522 - acc: 0.7900     \n",
      "Epoch 32/40\n",
      " 32/600 [>.............................] - ETA: 0s - loss: 0.3343 - acc: 0.8750Epoch 00031: acc improved from 0.79333 to 0.79500, saving model to /user/rh186032/datasciencecoursera/TitanicML/input/checkpoints/weights.best.hdf5\n",
      "600/600 [==============================] - 0s - loss: 0.4526 - acc: 0.7950     \n",
      "Epoch 33/40\n",
      " 32/600 [>.............................] - ETA: 0s - loss: 0.5398 - acc: 0.7812Epoch 00032: acc did not improve\n",
      "600/600 [==============================] - 0s - loss: 0.4521 - acc: 0.7900     \n",
      "Epoch 34/40\n",
      " 32/600 [>.............................] - ETA: 0s - loss: 0.4028 - acc: 0.7812Epoch 00033: acc did not improve\n",
      "600/600 [==============================] - 0s - loss: 0.4511 - acc: 0.7933     \n",
      "Epoch 35/40\n",
      " 32/600 [>.............................] - ETA: 0s - loss: 0.4621 - acc: 0.7500Epoch 00034: acc did not improve\n",
      "600/600 [==============================] - 0s - loss: 0.4539 - acc: 0.7933     \n",
      "Epoch 36/40\n",
      " 32/600 [>.............................] - ETA: 0s - loss: 0.6226 - acc: 0.6562Epoch 00035: acc improved from 0.79500 to 0.79667, saving model to /user/rh186032/datasciencecoursera/TitanicML/input/checkpoints/weights.best.hdf5\n",
      "600/600 [==============================] - 0s - loss: 0.4535 - acc: 0.7967     \n",
      "Epoch 37/40\n",
      " 32/600 [>.............................] - ETA: 0s - loss: 0.4778 - acc: 0.8125Epoch 00036: acc did not improve\n",
      "600/600 [==============================] - 0s - loss: 0.4515 - acc: 0.7950     \n",
      "Epoch 38/40\n",
      " 32/600 [>.............................] - ETA: 0s - loss: 0.4281 - acc: 0.7812Epoch 00037: acc did not improve\n",
      "600/600 [==============================] - 0s - loss: 0.4508 - acc: 0.7933     \n",
      "Epoch 39/40\n",
      " 32/600 [>.............................] - ETA: 0s - loss: 0.3328 - acc: 0.8750Epoch 00038: acc did not improve\n",
      "600/600 [==============================] - 0s - loss: 0.4491 - acc: 0.7967     \n",
      "Epoch 40/40\n",
      " 32/600 [>.............................] - ETA: 0s - loss: 0.4029 - acc: 0.8438Epoch 00039: acc did not improve\n",
      "600/600 [==============================] - 0s - loss: 0.4512 - acc: 0.7950     \n"
     ]
    }
   ],
   "source": [
    "#history = model.fit(X_train[:600], Y_train[:600], callbacks=callbacks_list, epochs=40, batch_size=32, verbose=0)\n",
    "history = model.fit(x=X_train[:600], y=Y_train[:600], batch_size=32, epochs=40, verbose=1, \n",
    "                    callbacks=callbacks_list, \n",
    "                    validation_split=0.0, \n",
    "                    validation_data=None, \n",
    "                    shuffle=True, \n",
    "                    class_weight=None, \n",
    "                    sample_weight=None, \n",
    "                    initial_epoch=0)\n",
    "\n",
    "loss_history = history.history['loss']\n",
    "acc_history = history.history['acc']\n",
    "epochs = [(x + 1) for x in range(40)]"
   ]
  },
  {
   "cell_type": "code",
   "execution_count": 90,
   "metadata": {
    "collapsed": false
   },
   "outputs": [
    {
     "data": {
      "text/plain": [
       "<matplotlib.text.Text at 0x7f7118064e80>"
      ]
     },
     "execution_count": 90,
     "metadata": {},
     "output_type": "execute_result"
    }
   ],
   "source": [
    "ax = plt.subplot(211)\n",
    "ax.plot(epochs, loss_history, color='red')\n",
    "ax.set_xlabel('Epochs')\n",
    "ax.set_ylabel('Error Rate\\n')\n",
    "ax.set_title('Error Rate per Epoch\\n')\n",
    "\n",
    "ax2 = plt.subplot(212)\n",
    "ax2.plot(epochs, acc_history, color='c')\n",
    "ax2.set_xlabel('Epochs')\n",
    "ax2.set_ylabel('Accuracy\\n')\n",
    "ax2.set_title('Accuracy per Epoch\\n')"
   ]
  },
  {
   "cell_type": "code",
   "execution_count": 93,
   "metadata": {
    "collapsed": false
   },
   "outputs": [
    {
     "data": {
      "image/png": "[encoded data removed]",
      "text/plain": [
       "<matplotlib.figure.Figure at 0x7f711854c160>"
      ]
     },
     "metadata": {},
     "output_type": "display_data"
    },
    {
     "name": "stdout",
     "output_type": "stream",
     "text": [
      " 32/289 [==>...........................] - ETA: 0s[0.4292133620144174, 0.78892733564013839]\n"
     ]
    }
   ],
   "source": [
    "plt.subplots_adjust(hspace=0.8)\n",
    "plt.show()\n",
    "\n",
    "X_test = X_train[600:]\n",
    "Y_test = Y_train[600:]\n",
    "\n",
    "loss_and_metrics = model.evaluate(X_test, Y_test, batch_size=32)\n",
    "print(loss_and_metrics)"
   ]
  },
  {
   "cell_type": "code",
   "execution_count": 97,
   "metadata": {
    "collapsed": false
   },
   "outputs": [
    {
     "data": {
      "text/plain": [
       "array([0, 1, 1, 1, 0, 0, 0, 0, 1, 1, 1, 1, 0, 0, 0, 1, 0, 1, 0, 1, 0, 1, 1,\n",
       "       1, 0, 1, 0, 0, 1, 0, 0, 1, 1, 0, 0, 0, 1, 0, 0, 1, 0, 0, 0, 1, 1, 0,\n",
       "       0, 1, 0, 0, 0, 0, 1, 1, 0, 1, 1, 0, 1, 0, 0, 0, 0, 0, 1, 1, 0, 1, 0,\n",
       "       0, 0, 0, 0, 1, 0, 0, 0, 1, 1, 0, 1, 1, 0, 1, 1, 0, 0, 1, 0, 0, 0, 0,\n",
       "       0, 0, 0, 0, 1, 1, 0, 0, 0, 0, 0, 0, 0, 1, 1, 0, 1, 0, 0, 0, 0, 0, 0,\n",
       "       0, 0, 0, 0, 0, 0, 0, 1, 0, 1, 0, 1, 1, 0, 0, 0, 0, 1, 0, 0, 1, 0, 0,\n",
       "       0, 0, 1, 1, 0, 0, 0, 1, 0, 0, 0, 0, 1, 0, 0, 0, 0, 1, 0, 0, 0, 0, 1,\n",
       "       0, 0, 0, 1, 1, 0, 0, 0, 0, 0, 1, 0, 0, 0, 0, 0, 0, 0, 0, 0, 0, 1, 1,\n",
       "       0, 1, 1, 0, 0, 1, 0, 1, 1, 1, 1, 0, 0, 1, 0, 0, 0, 0, 0, 1, 0, 0, 1,\n",
       "       1, 1, 0, 1, 0, 0, 0, 1, 1, 0, 1, 0, 1, 0, 0, 0, 1, 0, 1, 0, 0, 0, 1,\n",
       "       0, 0, 1, 0, 0, 0, 1, 0, 0, 0, 1, 0, 0, 0, 0, 0, 1, 1, 0, 0, 0, 0, 0,\n",
       "       0, 1, 1, 1, 1, 1, 0, 1, 0, 0, 0, 0, 0, 1, 1, 1, 0, 1, 1, 0, 1, 1, 0,\n",
       "       0, 0, 1, 0, 0, 0, 1, 0, 0, 1, 0, 1, 1, 1, 1, 0, 0, 0, 0, 0, 0, 1, 1,\n",
       "       1, 1, 0, 1, 0, 1, 1, 1, 0, 1, 1, 1, 0, 0, 0, 1, 1, 0, 1, 1, 0, 0, 1,\n",
       "       1, 0, 1, 0, 1, 1, 1, 1, 0, 0, 0, 1, 0, 0, 1, 1, 0, 1, 1, 0, 0, 0, 1,\n",
       "       1, 1, 1, 0, 0, 0, 0, 0, 0, 0, 1, 0, 1, 1, 0, 0, 0, 0, 0, 0, 1, 1, 1,\n",
       "       1, 1, 0, 0, 0, 0, 1, 1, 0, 0, 0, 1, 1, 0, 1, 0, 0, 0, 1, 0, 1, 1, 1,\n",
       "       0, 1, 1, 0, 0, 0, 0, 1, 1, 0, 0, 0, 0, 0, 0, 1, 0, 0, 0, 0, 1, 0, 1,\n",
       "       0, 1, 1, 0, 0, 0, 0, 0, 0, 0, 0, 1, 1, 0, 1, 1, 1, 1, 0, 0, 1, 0, 1,\n",
       "       0, 0, 1, 0, 0, 1, 1, 1, 1, 1, 1, 1, 0, 0, 0, 1, 0, 1, 0, 1, 1, 0, 1,\n",
       "       0, 0, 0, 0, 0, 0, 0, 0, 1, 0, 0, 1, 1, 0, 0, 0, 0, 0, 1, 0, 0, 0, 1,\n",
       "       1, 0, 1, 0, 0, 1, 0, 0, 0, 0, 0, 0, 1, 0, 0, 0, 0, 0, 0, 0, 1, 0, 1,\n",
       "       1, 0, 1, 1, 0, 1, 1, 0, 0, 1, 0, 1, 0, 1, 0, 0, 1, 0, 0, 1, 0, 0, 0,\n",
       "       1, 0, 0, 1, 0, 1, 0, 1, 0, 1, 1, 0, 0, 1, 0, 0, 1, 1, 0, 1, 1, 0, 0,\n",
       "       1, 1, 0, 1, 0, 1, 1, 0, 0, 0, 0, 0, 0, 0, 0, 0, 1, 1, 1, 1, 1, 0, 0,\n",
       "       1, 1, 0, 1, 1, 1, 0, 0, 0, 1, 0, 1, 0, 0, 0, 1, 0, 0, 0, 0, 1, 0, 0,\n",
       "       1, 1])"
      ]
     },
     "execution_count": 97,
     "metadata": {},
     "output_type": "execute_result"
    }
   ],
   "source": [
    "Y_train[:600]"
   ]
  },
  {
   "cell_type": "code",
   "execution_count": 100,
   "metadata": {
    "collapsed": true
   },
   "outputs": [],
   "source": [
    "import csv\n",
    "\n",
    "f = open(data_folder+'output.csv', 'w')\n",
    "writer = csv.writer(f, lineterminator='\\n')\n",
    "\n",
    "# データをリストに保持\n",
    "csvlist = Y_train[0:600]\n",
    "#csvlist.append(\"hoge\")\n",
    "#csvlist.append(\"fuga\")\n",
    "\n",
    "# 出力\n",
    "writer.writerow(csvlist)\n",
    "\n",
    "# ファイルクローズ\n",
    "f.close()"
   ]
  }
 ],
 "metadata": {
  "kernelspec": {
   "display_name": "Python 3",
   "language": "python",
   "name": "python3"
  },
  "language_info": {
   "codemirror_mode": {
    "name": "ipython",
    "version": 3
   },
   "file_extension": ".py",
   "mimetype": "text/x-python",
   "name": "python",
   "nbconvert_exporter": "python",
   "pygments_lexer": "ipython3",
   "version": "3.4.5"
  }
 },
 "nbformat": 4,
 "nbformat_minor": 2
}
